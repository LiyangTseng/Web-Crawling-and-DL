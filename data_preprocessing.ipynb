{
  "nbformat": 4,
  "nbformat_minor": 0,
  "metadata": {
    "colab": {
      "name": "data_preprocessing.ipynb",
      "provenance": [],
      "collapsed_sections": [],
      "include_colab_link": true
    },
    "kernelspec": {
      "name": "python3",
      "display_name": "Python 3"
    }
  },
  "cells": [
    {
      "cell_type": "markdown",
      "metadata": {
        "id": "view-in-github",
        "colab_type": "text"
      },
      "source": [
        "<a href=\"https://colab.research.google.com/github/LiyangTseng/Web-Crawling-and-DL/blob/master/data_preprocessing.ipynb\" target=\"_parent\"><img src=\"https://colab.research.google.com/assets/colab-badge.svg\" alt=\"Open In Colab\"/></a>"
      ]
    },
    {
      "cell_type": "code",
      "metadata": {
        "id": "6ILBrPgpnA6p",
        "colab_type": "code",
        "colab": {}
      },
      "source": [
        "import numpy as np\n",
        "import pandas as pd\n",
        "import cv2\n",
        "import os\n",
        "import matplotlib.pyplot as plt\n",
        "from sklearn.model_selection import train_test_split"
      ],
      "execution_count": null,
      "outputs": []
    },
    {
      "cell_type": "code",
      "metadata": {
        "id": "OycKF1BHnb72",
        "colab_type": "code",
        "colab": {
          "base_uri": "https://localhost:8080/",
          "height": 34
        },
        "outputId": "5fcaf263-d4df-4a38-9a1b-601b5ca6aae7"
      },
      "source": [
        "from google.colab import drive\n",
        "drive.mount('/content/drive')"
      ],
      "execution_count": null,
      "outputs": [
        {
          "output_type": "stream",
          "text": [
            "Drive already mounted at /content/drive; to attempt to forcibly remount, call drive.mount(\"/content/drive\", force_remount=True).\n"
          ],
          "name": "stdout"
        }
      ]
    },
    {
      "cell_type": "code",
      "metadata": {
        "id": "dFEfQhX3n51z",
        "colab_type": "code",
        "colab": {
          "base_uri": "https://localhost:8080/",
          "height": 34
        },
        "outputId": "d1a25f14-b122-4e4e-bb88-752030844954"
      },
      "source": [
        "data_path = \"/content/drive/My Drive/Hands on Deep Learning/mask dataset\"\n",
        "os.path.exists(data_path)"
      ],
      "execution_count": null,
      "outputs": [
        {
          "output_type": "execute_result",
          "data": {
            "text/plain": [
              "True"
            ]
          },
          "metadata": {
            "tags": []
          },
          "execution_count": 3
        }
      ]
    },
    {
      "cell_type": "code",
      "metadata": {
        "id": "xKwtF-egoYa-",
        "colab_type": "code",
        "colab": {
          "base_uri": "https://localhost:8080/",
          "height": 34
        },
        "outputId": "ee4d6f0d-7124-4654-f0e8-b850907e04e6"
      },
      "source": [
        "mydir = os.listdir(data_path)\n",
        "os.listdir(data_path)"
      ],
      "execution_count": null,
      "outputs": [
        {
          "output_type": "execute_result",
          "data": {
            "text/plain": [
              "['mask_less', 'mask_improperly', 'mask_properly']"
            ]
          },
          "metadata": {
            "tags": []
          },
          "execution_count": 4
        }
      ]
    },
    {
      "cell_type": "code",
      "metadata": {
        "id": "Ehy-puM8srfg",
        "colab_type": "code",
        "colab": {}
      },
      "source": [
        "def image_preprocessing(img_path, img_size):\n",
        "  # print(img_path)\n",
        "  img = cv2.imread(img_path)\n",
        "  h, w, _ = img.shape\n",
        "  lmax = max(h, w)\n",
        "    \n",
        "  if h!=w and lmax==h:\n",
        "    err = h-w\n",
        "    img = np.concatenate([np.zeros((h, err//2, 3), dtype=\"uint8\"), img, np.zeros((h, err-err//2, 3))], 1)\n",
        "  elif h!=w and lmax==w:\n",
        "    err = w-h\n",
        "    img = np.concatenate([np.zeros((err//2, w, 3), dtype=\"uint8\"), img, np.zeros((err-err//2, w, 3))], 0)\n",
        "  return img"
      ],
      "execution_count": null,
      "outputs": []
    },
    {
      "cell_type": "code",
      "metadata": {
        "id": "Z2wy9Zr5owof",
        "colab_type": "code",
        "colab": {}
      },
      "source": [
        "def data_open_save(data_path, new_path, img_size=(224, 224), data_split=True, data_split_rate=[0.7, 0.15, 0.15]):\n",
        "  data_path_list, data_label_list = [], []\n",
        "  for root, dirs, files in os.walk(data_path):\n",
        "    if len(files)!=0:\n",
        "        label = root.split(\"/\")[-1]\n",
        "        if data_split:\n",
        "          split_names = [\"train\", \"valid\", \"test\"]\n",
        "          for each_name in split_names:\n",
        "            new_root = os.path.join(new_path, each_name, label)\n",
        "            if not os.path.exists(new_root):\n",
        "              os.makedirs(new_root)\n",
        "        else:\n",
        "          new_root = os.path.join(new_path, label)\n",
        "          if not os.path.exists(new_root):\n",
        "            os.makedirs(new_root)\n",
        "        \n",
        "    for file in files:\n",
        "      img_path = os.path.join(root, file)\n",
        "      label = root.split(\"/\")[-1]\n",
        "      if label in mydir:\n",
        "        data_path_list.append(img_path)\n",
        "        data_label_list.append(label)\n",
        "\n",
        "  data_list = pd.DataFrame({\"img_path\":data_path_list, \"label\":data_label_list})\n",
        "  class_map = { label: i for i, label in enumerate(data_list[\"label\"].unique().copy())}\n",
        "  data_list[\"label_class\"] = data_list[\"label\"].map(class_map)\n",
        "\n",
        "  if data_split:\n",
        "    train_list, test_list = train_test_split(data_list,\n",
        "                            test_size=sum(data_split_rate[-2:]),\n",
        "                            random_state=2,\n",
        "                            stratify=data_list[\"label_class\"])\n",
        "    valid_list, test_list = train_test_split(test_list,\n",
        "                            test_size=data_split_rate[-1]/sum(data_split_rate[-2:]),\n",
        "                            random_state=2,\n",
        "                            stratify=test_list[\"label_class\"])\n",
        "  \n",
        "    data_types = [train_list[\"img_path\"].values, valid_list[\"img_path\"].values, test_list[\"img_path\"].values]\n",
        "    split_names = [\"train\", \"valid\", \"test\"]\n",
        "  else:\n",
        "    data_types = [data_path_list]\n",
        "    split_names = [\"\"]\n",
        "\n",
        "  for each_list, each_name in zip(data_types, split_names):\n",
        "    for img_path in each_list:\n",
        "      label, file = img_path.split(\"/\")[-2:]\n",
        "      new_root = os.path.join(new_path, each_name, label)\n",
        "      img_newpath = os.path.join(new_root, file)\n",
        "      try:\n",
        "        img = image_preprocessing(img_path, img_size)\n",
        "        cv2.imwrite(img_newpath, img)\n",
        "      except:\n",
        "        continue"
      ],
      "execution_count": null,
      "outputs": []
    },
    {
      "cell_type": "code",
      "metadata": {
        "id": "KMmfaNOYqWgn",
        "colab_type": "code",
        "colab": {}
      },
      "source": [
        "new_path = \"/content/drive/My Drive/Hands on Deep Learning/mask_dataset_preprocessing\"\n",
        "img_size = (224, 224)\n",
        "\n",
        "data_open_save(data_path, new_path, img_size=(224, 224), data_split=True, data_split_rate=[0.7, 0.15, 0.15])"
      ],
      "execution_count": null,
      "outputs": []
    },
    {
      "cell_type": "code",
      "metadata": {
        "id": "dVdKBEs6qCeB",
        "colab_type": "code",
        "colab": {}
      },
      "source": [
        ""
      ],
      "execution_count": null,
      "outputs": []
    }
  ]
}